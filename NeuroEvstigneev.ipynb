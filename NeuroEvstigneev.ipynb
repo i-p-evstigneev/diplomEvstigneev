{
  "nbformat": 4,
  "nbformat_minor": 0,
  "metadata": {
    "colab": {
      "name": "NeuroEvstigneev.ipynb",
      "provenance": [],
      "authorship_tag": "ABX9TyPnfvjnH//9KK3fnlFu5oHA",
      "include_colab_link": true
    },
    "kernelspec": {
      "name": "python3",
      "display_name": "Python 3"
    },
    "language_info": {
      "name": "python"
    }
  },
  "cells": [
    {
      "cell_type": "markdown",
      "metadata": {
        "id": "view-in-github",
        "colab_type": "text"
      },
      "source": [
        "<a href=\"https://colab.research.google.com/github/i-p-evstigneev/diplomEvstigneev/blob/main/NeuroEvstigneev.ipynb\" target=\"_parent\"><img src=\"https://colab.research.google.com/assets/colab-badge.svg\" alt=\"Open In Colab\"/></a>"
      ]
    },
    {
      "cell_type": "markdown",
      "source": [
        "**Прогнозирование цены акций Apple с использование Нейросетевых**\n",
        "\n"
      ],
      "metadata": {
        "id": "YJjQIHaMZPF9"
      }
    },
    {
      "cell_type": "code",
      "execution_count": 23,
      "metadata": {
        "id": "_owzAZwzYfY3"
      },
      "outputs": [],
      "source": [
        "import tensorflow as tf\n",
        "\n",
        "import numpy as np\n",
        "import matplotlib.pyplot as plt\n",
        "\n",
        "import pandas as pd"
      ]
    },
    {
      "cell_type": "code",
      "source": [
        "filename = ('https://raw.githubusercontent.com/i-p-evstigneev/diplomEvstigneev/main/data/AAPL_000101_220502.csv')\n",
        "df = pd.read_csv(filename, sep=\",\")\n",
        "print(df.shape, df.columns)\n",
        "df.rename(columns={\"<DATE>\": \"Date\", \"<TIME>\": \"Time\", \"<OPEN>\": \"Open\", \"<HIGH>\": \"High\", \"<LOW>\": \"Low\", \"<CLOSE>\": \"Close\", \"<VOL>\": \"Volume\"}, inplace=True)\n",
        "print(df.shape, df.columns)\n",
        "df['Date'] = pd.to_datetime(df['Date'], format = '%Y%m%d')\n",
        "df = df.drop(columns = 'Time')\n",
        "print(df.shape, df.columns)\n"
      ],
      "metadata": {
        "id": "treSrC6fZdqk"
      },
      "execution_count": null,
      "outputs": []
    },
    {
      "cell_type": "code",
      "source": [
        "df"
      ],
      "metadata": {
        "id": "EQRgTowjZEo4"
      },
      "execution_count": null,
      "outputs": []
    },
    {
      "cell_type": "code",
      "source": [
        "split = 0.85\n",
        "i_split = int(len(df) * split)\n",
        "cols = [\"Close\", \"Volume\"]\n",
        "data_train = df.get(cols).values[:i_split]\n",
        "data_test = df.get(cols).values[i_split:]\n",
        "len_train = len(data_train)\n",
        "len_test = len(data_test)\n",
        "print(len(df), len_train, len_test)"
      ],
      "metadata": {
        "id": "-XsGMYpvCbjm"
      },
      "execution_count": null,
      "outputs": []
    },
    {
      "cell_type": "code",
      "source": [
        "sequence_length = 50; input_dim = 2; batch_size = 32; epochs = 2"
      ],
      "metadata": {
        "id": "SYavOWCCEkd1"
      },
      "execution_count": 26,
      "outputs": []
    },
    {
      "cell_type": "code",
      "source": [
        "model = tf.keras.Sequential([\n",
        "    tf.keras.layers.LSTM(100, input_shape = (sequence_length - 1, input_dim), return_sequences = True),\n",
        "    tf.keras.layers.Dropout(.2),\n",
        "    tf.keras.layers.LSTM(100, return_sequences = True),\n",
        "    tf.keras.layers.LSTM(100, return_sequences = False),\n",
        "    tf.keras.layers.Dropout(.2),\n",
        "    tf.keras.layers.Dense(1, activation = 'linear')\n",
        "])"
      ],
      "metadata": {
        "id": "twtAtpuTElEE"
      },
      "execution_count": 27,
      "outputs": []
    },
    {
      "cell_type": "code",
      "source": [
        "model.summary()"
      ],
      "metadata": {
        "id": "JHscfJWIHBT7"
      },
      "execution_count": null,
      "outputs": []
    },
    {
      "cell_type": "code",
      "source": [
        "tf.keras.utils.plot_model(model, \"multi_input_and_output_model.png\", show_shapes = True)"
      ],
      "metadata": {
        "id": "yfQIGXOOHgNd"
      },
      "execution_count": null,
      "outputs": []
    },
    {
      "cell_type": "code",
      "source": [
        "model.compile(optimizer = 'adam', loss = 'mse', metrics = ['accuracy'])"
      ],
      "metadata": {
        "id": "VINMpTIwICDV"
      },
      "execution_count": 30,
      "outputs": []
    },
    {
      "cell_type": "code",
      "source": [
        ""
      ],
      "metadata": {
        "id": "7v11pEqVI2sL"
      },
      "execution_count": null,
      "outputs": []
    },
    {
      "cell_type": "code",
      "source": [
        "def normalise_windows(window_data, single_window=False):\n",
        "    '''Normalise window with a base value of zero'''\n",
        "    normalised_data = []\n",
        "    window_data = [window_data] if single_window else window_data\n",
        "    for window in window_data:\n",
        "        normalised_window = []\n",
        "        for col_i in range(window.shape[1]):\n",
        "            normalised_col = [((float(p) / float(window[0, col_i])) - 1) for p in window[:, col_i]]\n",
        "            normalised_window.append(normalised_col)\n",
        "        normalised_window = np.array(normalised_window).T # reshape and transpose array back into original multidimensional format\n",
        "        normalised_data.append(normalised_window)\n",
        "    return np.array(normalised_data)"
      ],
      "metadata": {
        "id": "FqPi52CyI2gt"
      },
      "execution_count": 35,
      "outputs": []
    },
    {
      "cell_type": "code",
      "source": [
        "def _next_window(i, seq_len, normalise):\n",
        "    '''Generates the next data window from the given index location i'''\n",
        "    window = data_train[i:i+seq_len]\n",
        "    window = normalise_windows(window, single_window=True)[0] if normalise else window\n",
        "    x = window[:-1]\n",
        "    y = window[-1, [0]]\n",
        "    return x, y"
      ],
      "metadata": {
        "id": "yfPtoB3nJD8a"
      },
      "execution_count": 36,
      "outputs": []
    },
    {
      "cell_type": "code",
      "source": [
        "def get_train_data(seq_len, normalise):\n",
        "    '''\n",
        "    Create x, y train data windows\n",
        "    Warning: batch method, not generative, make sure you have enough memory to\n",
        "    load data, otherwise use generate_training_window() method.\n",
        "    '''\n",
        "    data_x = []\n",
        "    data_y = []\n",
        "    for i in range(len_train - seq_len + 1):\n",
        "        x, y = _next_window(i, seq_len, normalise)\n",
        "        data_x.append(x)\n",
        "        data_y.append(y)\n",
        "    return np.array(data_x), np.array(data_y)\n"
      ],
      "metadata": {
        "id": "OsmmSjsMVimq"
      },
      "execution_count": 37,
      "outputs": []
    },
    {
      "cell_type": "code",
      "source": [
        "x, y = get_train_data(seq_len = sequence_length, normalise = True)"
      ],
      "metadata": {
        "id": "xKfLls-UWagh"
      },
      "execution_count": 38,
      "outputs": []
    },
    {
      "cell_type": "code",
      "source": [
        "print(x, y, x.shape, y.shape)"
      ],
      "metadata": {
        "id": "6_kvNwvOWslz"
      },
      "execution_count": null,
      "outputs": []
    }
  ]
}